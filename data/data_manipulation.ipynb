{
 "cells": [
  {
   "cell_type": "code",
   "execution_count": 1,
   "id": "e3d0a7b8",
   "metadata": {},
   "outputs": [],
   "source": [
    "import pandas as pd\n",
    "import numpy as np"
   ]
  },
  {
   "cell_type": "code",
   "execution_count": 2,
   "id": "e2b36c47",
   "metadata": {},
   "outputs": [],
   "source": [
    "df=pd.read_csv('borg_traces_data_preprocessed.csv')"
   ]
  },
  {
   "cell_type": "code",
   "execution_count": 8,
   "id": "71993578",
   "metadata": {},
   "outputs": [],
   "source": [
    "df=df.head(10)"
   ]
  },
  {
   "cell_type": "code",
   "execution_count": 9,
   "id": "4082904c",
   "metadata": {},
   "outputs": [],
   "source": [
    "df.to_csv('borg_traces_data_preprocessed_10.csv')"
   ]
  },
  {
   "cell_type": "code",
   "execution_count": 6,
   "id": "0e5c7e7e",
   "metadata": {},
   "outputs": [
    {
     "data": {
      "text/plain": [
       "36"
      ]
     },
     "execution_count": 6,
     "metadata": {},
     "output_type": "execute_result"
    }
   ],
   "source": [
    "len(df.columns)"
   ]
  },
  {
   "cell_type": "code",
   "execution_count": 7,
   "id": "3ea90165",
   "metadata": {},
   "outputs": [
    {
     "data": {
      "text/plain": [
       "Index(['timeCorr', 'time', 'instance_events_type', 'scheduling_class',\n",
       "       'collection_type', 'priority', 'instance_index',\n",
       "       'collections_events_type', 'vertical_scaling', 'scheduler',\n",
       "       'assigned_memory', 'page_cache_memory', 'cycles_per_instruction',\n",
       "       'memory_accesses_per_instruction', 'sample_rate', 'cluster', 'event',\n",
       "       'failed', 'offset', 'hours', 'hourBin', 'time_diff_hrs', 'eventIndex',\n",
       "       'resource_request_cpu', 'resource_request_memory', 'average_usage_cpu',\n",
       "       'average_usage_memory', 'maximum_usage_cpu', 'maximum_usage_memory',\n",
       "       'random_sample_usage_cpu', 'cpu_mean', 'cpu_std_dev', 'cpu_median',\n",
       "       'tail_cpu_mean', 'tail_cpu_std_dev', 'tail_cpu_median'],\n",
       "      dtype='object')"
      ]
     },
     "execution_count": 7,
     "metadata": {},
     "output_type": "execute_result"
    }
   ],
   "source": [
    "df.columns"
   ]
  },
  {
   "cell_type": "code",
   "execution_count": null,
   "id": "0ef58ed5",
   "metadata": {},
   "outputs": [],
   "source": []
  }
 ],
 "metadata": {
  "kernelspec": {
   "display_name": "Python 3 (ipykernel)",
   "language": "python",
   "name": "python3"
  },
  "language_info": {
   "codemirror_mode": {
    "name": "ipython",
    "version": 3
   },
   "file_extension": ".py",
   "mimetype": "text/x-python",
   "name": "python",
   "nbconvert_exporter": "python",
   "pygments_lexer": "ipython3",
   "version": "3.10.0"
  }
 },
 "nbformat": 4,
 "nbformat_minor": 5
}
