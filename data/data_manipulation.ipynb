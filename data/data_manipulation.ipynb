{
 "cells": [
  {
   "cell_type": "code",
   "execution_count": 1,
   "id": "e3d0a7b8",
   "metadata": {},
   "outputs": [],
   "source": [
    "import pandas as pd\n",
    "import numpy as np"
   ]
  },
  {
   "cell_type": "code",
   "execution_count": 2,
   "id": "e2b36c47",
   "metadata": {},
   "outputs": [],
   "source": [
    "df=pd.read_csv('borg_traces_data_preprocessed.csv')"
   ]
  },
  {
   "cell_type": "code",
   "execution_count": 3,
   "id": "0ef58ed5",
   "metadata": {},
   "outputs": [
    {
     "data": {
      "text/plain": [
       "Index(['Unnamed: 0', 'timeCorr', 'time', 'instance_events_type',\n",
       "       'scheduling_class', 'collection_type', 'priority', 'instance_index',\n",
       "       'collections_events_type', 'vertical_scaling', 'scheduler',\n",
       "       'assigned_memory', 'page_cache_memory', 'cycles_per_instruction',\n",
       "       'memory_accesses_per_instruction', 'sample_rate', 'cluster', 'event',\n",
       "       'failed', 'offset', 'hours', 'hourBin', 'time_diff_hrs', 'eventIndex',\n",
       "       'resource_request_cpu', 'resource_request_memory', 'average_usage_cpu',\n",
       "       'average_usage_memory', 'maximum_usage_cpu', 'maximum_usage_memory',\n",
       "       'random_sample_usage_cpu', 'cpu_mean', 'cpu_std_dev', 'cpu_median',\n",
       "       'tail_cpu_mean', 'tail_cpu_std_dev', 'tail_cpu_median'],\n",
       "      dtype='object')"
      ]
     },
     "execution_count": 3,
     "metadata": {},
     "output_type": "execute_result"
    }
   ],
   "source": [
    "df.columns"
   ]
  },
  {
   "cell_type": "code",
   "execution_count": 4,
   "id": "d6d65a41",
   "metadata": {
    "scrolled": true
   },
   "outputs": [
    {
     "data": {
      "text/plain": [
       "0         1\n",
       "1         0\n",
       "2         0\n",
       "3         0\n",
       "4         0\n",
       "         ..\n",
       "349437    0\n",
       "349438    0\n",
       "349439    0\n",
       "349440    1\n",
       "349441    0\n",
       "Name: failed, Length: 349442, dtype: int64"
      ]
     },
     "execution_count": 4,
     "metadata": {},
     "output_type": "execute_result"
    }
   ],
   "source": [
    "df['failed']"
   ]
  },
  {
   "cell_type": "code",
   "execution_count": 13,
   "id": "d701dfee",
   "metadata": {},
   "outputs": [],
   "source": [
    "df=df.fillna(-1)"
   ]
  },
  {
   "cell_type": "code",
   "execution_count": 15,
   "id": "8b15d7fc",
   "metadata": {},
   "outputs": [],
   "source": [
    "df.to_csv('borg_traces_data_preprocessed.csv')"
   ]
  },
  {
   "cell_type": "code",
   "execution_count": 16,
   "id": "22f8d27e",
   "metadata": {},
   "outputs": [],
   "source": [
    "df_=df.head(1000)"
   ]
  },
  {
   "cell_type": "code",
   "execution_count": 17,
   "id": "459cff71",
   "metadata": {},
   "outputs": [],
   "source": [
    "df_.to_csv('borg_traces_data_preprocessed_1000.csv')"
   ]
  },
  {
   "cell_type": "code",
   "execution_count": 18,
   "id": "f4d4dc9e",
   "metadata": {},
   "outputs": [],
   "source": [
    "df_=df.head(10000)"
   ]
  },
  {
   "cell_type": "code",
   "execution_count": 19,
   "id": "1639172d",
   "metadata": {},
   "outputs": [],
   "source": [
    "df_.to_csv('borg_traces_data_preprocessed_10000.csv')"
   ]
  },
  {
   "cell_type": "code",
   "execution_count": 20,
   "id": "755a76b0",
   "metadata": {},
   "outputs": [],
   "source": [
    "df_=df.head(100)"
   ]
  },
  {
   "cell_type": "code",
   "execution_count": 21,
   "id": "7f1c9afc",
   "metadata": {},
   "outputs": [],
   "source": [
    "df_.to_csv('borg_traces_data_preprocessed_100.csv')"
   ]
  },
  {
   "cell_type": "code",
   "execution_count": null,
   "id": "3499228f",
   "metadata": {},
   "outputs": [],
   "source": []
  }
 ],
 "metadata": {
  "kernelspec": {
   "display_name": "Python 3 (ipykernel)",
   "language": "python",
   "name": "python3"
  },
  "language_info": {
   "codemirror_mode": {
    "name": "ipython",
    "version": 3
   },
   "file_extension": ".py",
   "mimetype": "text/x-python",
   "name": "python",
   "nbconvert_exporter": "python",
   "pygments_lexer": "ipython3",
   "version": "3.10.0"
  }
 },
 "nbformat": 4,
 "nbformat_minor": 5
}
