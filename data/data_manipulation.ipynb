{
 "cells": [
  {
   "cell_type": "code",
   "execution_count": 1,
   "id": "e3d0a7b8",
   "metadata": {},
   "outputs": [],
   "source": [
    "import pandas as pd\n",
    "import numpy as np"
   ]
  },
  {
   "cell_type": "code",
   "execution_count": 2,
   "id": "e2b36c47",
   "metadata": {},
   "outputs": [],
   "source": [
    "df=pd.read_csv('borg_traces_data_preprocessed.csv')"
   ]
  },
  {
   "cell_type": "code",
   "execution_count": 3,
   "id": "0ef58ed5",
   "metadata": {},
   "outputs": [
    {
     "data": {
      "text/plain": [
       "349442"
      ]
     },
     "execution_count": 3,
     "metadata": {},
     "output_type": "execute_result"
    }
   ],
   "source": [
    "len(df)"
   ]
  },
  {
   "cell_type": "code",
   "execution_count": 14,
   "id": "d6d65a41",
   "metadata": {},
   "outputs": [
    {
     "data": {
      "text/plain": [
       "timeCorr                           0\n",
       "time                               0\n",
       "instance_events_type               0\n",
       "scheduling_class                   0\n",
       "collection_type                    0\n",
       "priority                           0\n",
       "instance_index                     0\n",
       "collections_events_type            0\n",
       "vertical_scaling                   0\n",
       "scheduler                          0\n",
       "assigned_memory                    0\n",
       "page_cache_memory                  0\n",
       "cycles_per_instruction             0\n",
       "memory_accesses_per_instruction    0\n",
       "sample_rate                        0\n",
       "cluster                            0\n",
       "event                              0\n",
       "failed                             0\n",
       "offset                             0\n",
       "hours                              0\n",
       "hourBin                            0\n",
       "time_diff_hrs                      0\n",
       "eventIndex                         0\n",
       "resource_request_cpu               0\n",
       "resource_request_memory            0\n",
       "average_usage_cpu                  0\n",
       "average_usage_memory               0\n",
       "maximum_usage_cpu                  0\n",
       "maximum_usage_memory               0\n",
       "random_sample_usage_cpu            0\n",
       "cpu_mean                           0\n",
       "cpu_std_dev                        0\n",
       "cpu_median                         0\n",
       "tail_cpu_mean                      0\n",
       "tail_cpu_std_dev                   0\n",
       "tail_cpu_median                    0\n",
       "dtype: int64"
      ]
     },
     "execution_count": 14,
     "metadata": {},
     "output_type": "execute_result"
    }
   ],
   "source": [
    "df.isna().sum()"
   ]
  },
  {
   "cell_type": "code",
   "execution_count": 13,
   "id": "d701dfee",
   "metadata": {},
   "outputs": [],
   "source": [
    "df=df.fillna(-1)"
   ]
  },
  {
   "cell_type": "code",
   "execution_count": 15,
   "id": "8b15d7fc",
   "metadata": {},
   "outputs": [],
   "source": [
    "df.to_csv('borg_traces_data_preprocessed.csv')"
   ]
  },
  {
   "cell_type": "code",
   "execution_count": 16,
   "id": "22f8d27e",
   "metadata": {},
   "outputs": [],
   "source": [
    "df_=df.head(1000)"
   ]
  },
  {
   "cell_type": "code",
   "execution_count": 17,
   "id": "459cff71",
   "metadata": {},
   "outputs": [],
   "source": [
    "df_.to_csv('borg_traces_data_preprocessed_1000.csv')"
   ]
  },
  {
   "cell_type": "code",
   "execution_count": 18,
   "id": "f4d4dc9e",
   "metadata": {},
   "outputs": [],
   "source": [
    "df_=df.head(10000)"
   ]
  },
  {
   "cell_type": "code",
   "execution_count": 19,
   "id": "1639172d",
   "metadata": {},
   "outputs": [],
   "source": [
    "df_.to_csv('borg_traces_data_preprocessed_10000.csv')"
   ]
  },
  {
   "cell_type": "code",
   "execution_count": null,
   "id": "755a76b0",
   "metadata": {},
   "outputs": [],
   "source": []
  }
 ],
 "metadata": {
  "kernelspec": {
   "display_name": "Python 3 (ipykernel)",
   "language": "python",
   "name": "python3"
  },
  "language_info": {
   "codemirror_mode": {
    "name": "ipython",
    "version": 3
   },
   "file_extension": ".py",
   "mimetype": "text/x-python",
   "name": "python",
   "nbconvert_exporter": "python",
   "pygments_lexer": "ipython3",
   "version": "3.10.0"
  }
 },
 "nbformat": 4,
 "nbformat_minor": 5
}
