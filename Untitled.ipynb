{
 "cells": [
  {
   "cell_type": "code",
   "execution_count": 1,
   "id": "e341bf10",
   "metadata": {},
   "outputs": [],
   "source": [
    "import pandas as pd\n",
    "import numpy as np"
   ]
  },
  {
   "cell_type": "code",
   "execution_count": 22,
   "id": "662eadbe",
   "metadata": {},
   "outputs": [],
   "source": [
    "PREPROCESSED_FILE_PATH = './data/borg_traces_data_preprocessed_small.csv'\n",
    "data_df=pd.read_csv(PREPROCESSED_FILE_PATH)"
   ]
  },
  {
   "cell_type": "code",
   "execution_count": 23,
   "id": "b7551240",
   "metadata": {},
   "outputs": [],
   "source": [
    "data_df.reset_index(drop=True, inplace=True)"
   ]
  },
  {
   "cell_type": "code",
   "execution_count": 29,
   "id": "f6c0f79c",
   "metadata": {},
   "outputs": [
    {
     "data": {
      "text/plain": [
       "0       0.000000\n",
       "1       0.024200\n",
       "2       0.000271\n",
       "3       0.079468\n",
       "4       0.004257\n",
       "          ...   \n",
       "9995    0.000861\n",
       "9996    0.000000\n",
       "9997    0.003922\n",
       "9998    0.007492\n",
       "9999    0.000220\n",
       "Name: average_usage_cpu, Length: 10000, dtype: float64"
      ]
     },
     "execution_count": 29,
     "metadata": {},
     "output_type": "execute_result"
    }
   ],
   "source": [
    "data_df['average_usage_cpu']"
   ]
  },
  {
   "cell_type": "code",
   "execution_count": 10,
   "id": "6cbde9bd",
   "metadata": {},
   "outputs": [],
   "source": [
    "data_df.drop(['timeCorr'], inplace=True, axis=1) #df.drop(columns=['column_name'], inplace=True)"
   ]
  },
  {
   "cell_type": "code",
   "execution_count": 13,
   "id": "9db8cbf0",
   "metadata": {},
   "outputs": [
    {
     "data": {
      "text/plain": [
       "FINISH            92267\n",
       "SCHEDULE          68950\n",
       "LOST              59515\n",
       "ENABLE            57291\n",
       "FAIL              55596\n",
       "EVICT             14756\n",
       "KILL                951\n",
       "UPDATE_PENDING      111\n",
       "QUEUE                 4\n",
       "UPDATE_RUNNING        1\n",
       "Name: event, dtype: int64"
      ]
     },
     "execution_count": 13,
     "metadata": {},
     "output_type": "execute_result"
    }
   ],
   "source": [
    "data_df['event'].value_counts()"
   ]
  },
  {
   "cell_type": "code",
   "execution_count": 14,
   "id": "cd90e65e",
   "metadata": {},
   "outputs": [
    {
     "data": {
      "text/plain": [
       "0    293846\n",
       "1     55596\n",
       "Name: failed, dtype: int64"
      ]
     },
     "execution_count": 14,
     "metadata": {},
     "output_type": "execute_result"
    }
   ],
   "source": [
    "data_df['failed'].value_counts()"
   ]
  },
  {
   "cell_type": "code",
   "execution_count": 2,
   "id": "2b775ef3",
   "metadata": {},
   "outputs": [],
   "source": [
    "import pandas as pd\n",
    "import numpy as np\n",
    "data = {\n",
    "    'A': np.random.rand(10),  # 10 random floats between 0 and 1\n",
    "    'B': np.random.randint(1, 100, size=10),  # 10 random integers between 1 and 100\n",
    "    'C': np.random.choice(['red', 'blue', 'green'], size=10),  # 10 random choices from a list\n",
    "}\n",
    "\n",
    "# Create a Pandas DataFrame\n",
    "df = pd.DataFrame(data)"
   ]
  },
  {
   "cell_type": "code",
   "execution_count": 8,
   "id": "9cee305c",
   "metadata": {},
   "outputs": [],
   "source": [
    "i=1"
   ]
  },
  {
   "cell_type": "code",
   "execution_count": 11,
   "id": "cbdb516f",
   "metadata": {},
   "outputs": [],
   "source": [
    "import os\n",
    "i+=1\n",
    "DATASET_NAME=\"GOOGLE_\"+str(i)\n",
    "if not os.path.exists('./prediction-outputs/'+str(DATASET_NAME)):\n",
    "    os.makedirs('./prediction-outputs/'+str(DATASET_NAME))\n",
    "df.to_csv('./prediction-outputs/'+str(DATASET_NAME)+'/'+str(DATASET_NAME)+str('_train.csv'))\n",
    "# df.to_csv('./prediction-outputs/'+str(DATASET_NAME)+str('_train.csv'))"
   ]
  },
  {
   "cell_type": "code",
   "execution_count": 12,
   "id": "fdcd6f91",
   "metadata": {},
   "outputs": [],
   "source": [
    "# df.to_csv('./prediction-outputs/'+str(DATASET_NAME)+'/'+str(DATASET_NAME)+str('_crossval.csv'))"
   ]
  },
  {
   "cell_type": "code",
   "execution_count": 18,
   "id": "77fd43fb",
   "metadata": {},
   "outputs": [],
   "source": [
    "df.to_csv('./performance-reports/google.csv')"
   ]
  },
  {
   "cell_type": "raw",
   "id": "cc756566",
   "metadata": {},
   "source": []
  },
  {
   "cell_type": "code",
   "execution_count": 20,
   "id": "9f57130d",
   "metadata": {},
   "outputs": [
    {
     "ename": "NameError",
     "evalue": "name 'data_df' is not defined",
     "output_type": "error",
     "traceback": [
      "\u001b[1;31m---------------------------------------------------------------------------\u001b[0m",
      "\u001b[1;31mNameError\u001b[0m                                 Traceback (most recent call last)",
      "Cell \u001b[1;32mIn [20], line 1\u001b[0m\n\u001b[1;32m----> 1\u001b[0m data_df\n",
      "\u001b[1;31mNameError\u001b[0m: name 'data_df' is not defined"
     ]
    }
   ],
   "source": [
    "data_df"
   ]
  },
  {
   "cell_type": "code",
   "execution_count": null,
   "id": "e2abddeb",
   "metadata": {},
   "outputs": [],
   "source": []
  }
 ],
 "metadata": {
  "kernelspec": {
   "display_name": "Python 3 (ipykernel)",
   "language": "python",
   "name": "python3"
  },
  "language_info": {
   "codemirror_mode": {
    "name": "ipython",
    "version": 3
   },
   "file_extension": ".py",
   "mimetype": "text/x-python",
   "name": "python",
   "nbconvert_exporter": "python",
   "pygments_lexer": "ipython3",
   "version": "3.10.0"
  }
 },
 "nbformat": 4,
 "nbformat_minor": 5
}
